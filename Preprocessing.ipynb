{
  "cells": [
    {
      "cell_type": "markdown",
      "metadata": {
        "id": "U7B5N83x3mEv"
      },
      "source": [
        "### Statistical Analysis & Understanding Dataset"
      ]
    },
    {
      "cell_type": "code",
      "execution_count": null,
      "metadata": {
        "id": "5O-vccYSwKey"
      },
      "outputs": [],
      "source": [
        "import pandas as pd\n",
        "import numpy as np\n",
        "import matplotlib.pyplot as plt\n",
        "import seaborn as sns\n",
        "from utils import (encode_features, scale_features,\n",
        "                   look_for_outliers,handle_outliers_iqr,\n",
        "                   treat_skewness)\n",
        "# from google.colab import drive"
      ]
    },
    {
      "cell_type": "code",
      "execution_count": null,
      "metadata": {
        "colab": {
          "base_uri": "https://localhost:8080/"
        },
        "id": "N4OwIzXowfdI",
        "outputId": "f196d1b2-4b4e-4d19-83b6-f06e9f679cc4"
      },
      "outputs": [],
      "source": [
        "# drive.mount('/content/drive')"
      ]
    },
    {
      "cell_type": "code",
      "execution_count": null,
      "metadata": {
        "colab": {
          "base_uri": "https://localhost:8080/",
          "height": 327
        },
        "id": "kNMQd7ydwo0A",
        "outputId": "475f9438-c686-45c4-dae5-5cd9d74f73d2"
      },
      "outputs": [],
      "source": [
        "df = pd.read_csv(\"data/students_train.csv\")\n",
        "df.head()"
      ]
    },
    {
      "cell_type": "code",
      "execution_count": null,
      "metadata": {
        "colab": {
          "base_uri": "https://localhost:8080/",
          "height": 223
        },
        "id": "MA0zGSduz5e4",
        "outputId": "93c2e637-daf4-4fa3-cf4b-a6493ca8af83"
      },
      "outputs": [],
      "source": [
        "df.tail()"
      ]
    },
    {
      "cell_type": "code",
      "execution_count": null,
      "metadata": {
        "colab": {
          "base_uri": "https://localhost:8080/",
          "height": 585
        },
        "id": "3OaDrDcTyJGZ",
        "outputId": "b5f91c68-52f4-466d-c9b2-47244a32e5e3"
      },
      "outputs": [],
      "source": [
        "df.isnull().sum()"
      ]
    },
    {
      "cell_type": "code",
      "execution_count": null,
      "metadata": {
        "colab": {
          "base_uri": "https://localhost:8080/"
        },
        "id": "9ak_vtcBzujr",
        "outputId": "60d1a5a7-1f38-44d4-8b26-f6d0e1955c10"
      },
      "outputs": [],
      "source": [
        "df.info()"
      ]
    },
    {
      "cell_type": "code",
      "execution_count": null,
      "metadata": {
        "colab": {
          "base_uri": "https://localhost:8080/"
        },
        "id": "8OVllLmD0D7Y",
        "outputId": "39fe9133-a2f4-4a44-f6cd-a63ad45a03c8"
      },
      "outputs": [],
      "source": [
        "print(f\"Dataset contains {df.shape[0]} rows and {df.shape[1]} columns.\")"
      ]
    },
    {
      "cell_type": "code",
      "execution_count": null,
      "metadata": {
        "colab": {
          "base_uri": "https://localhost:8080/"
        },
        "id": "NJj83kP80Qzi",
        "outputId": "4dcff28b-0e36-4a9d-c78a-c83cfae0ab8f"
      },
      "outputs": [],
      "source": [
        "#Summarize categorical columns:\n",
        "for col in df.select_dtypes(include='object').columns:\n",
        "    print(f\"Value counts for {col}:\\n{df[col].value_counts()}\\n\")"
      ]
    },
    {
      "cell_type": "code",
      "execution_count": null,
      "metadata": {
        "colab": {
          "base_uri": "https://localhost:8080/"
        },
        "id": "xJUEr7eZWjt3",
        "outputId": "308af12d-711e-4c2b-cc56-634bec4068dd"
      },
      "outputs": [],
      "source": [
        "for col in df.columns:\n",
        "        num_unique = df[col].nunique()\n",
        "        print(f\"Column '{col}' has {num_unique} unique values.\")"
      ]
    },
    {
      "cell_type": "code",
      "execution_count": null,
      "metadata": {
        "colab": {
          "base_uri": "https://localhost:8080/"
        },
        "id": "1RGbHvff3hdh",
        "outputId": "6e8ca258-1712-42a0-ac50-36063e892e3c"
      },
      "outputs": [],
      "source": [
        "print(f\"Number of duplicate rows: {df.duplicated().sum()}\")\n",
        "# View the duplicated rows\n",
        "duplicated_rows = df[df.duplicated()]\n",
        "print(\"\\nDuplicated rows:\")\n",
        "print(duplicated_rows)"
      ]
    },
    {
      "cell_type": "code",
      "execution_count": null,
      "metadata": {
        "colab": {
          "base_uri": "https://localhost:8080/"
        },
        "id": "DpauWbn33K2K",
        "outputId": "6cc55e55-e1de-4835-fccf-c35a3bb9c9f8"
      },
      "outputs": [],
      "source": [
        "# 1. Descriptive statistics for numeric columns\n",
        "numeric_desc = df.describe()\n",
        "print(\"Descriptive Statistics (Numeric Columns):\")\n",
        "print(numeric_desc)"
      ]
    },
    {
      "cell_type": "code",
      "execution_count": null,
      "metadata": {
        "colab": {
          "base_uri": "https://localhost:8080/"
        },
        "id": "lhW-qkM138xt",
        "outputId": "f59415ec-4e1b-4aec-8b2c-ea37e0cad487"
      },
      "outputs": [],
      "source": [
        "# 2. Frequency distribution for top 10 values in categorical variables\n",
        "categorical_cols = df.select_dtypes(include='object').columns\n",
        "print(\"\\nFrequency Distribution (Top 10 per Categorical Column):\")\n",
        "for col in categorical_cols:\n",
        "    print(f\"\\nTop values in '{col}':\")\n",
        "    print(df[col].value_counts().head(10))"
      ]
    },
    {
      "cell_type": "code",
      "execution_count": null,
      "metadata": {
        "colab": {
          "base_uri": "https://localhost:8080/"
        },
        "id": "IMe-lyRg4XB9",
        "outputId": "fb931bb3-beb5-4a7e-8b1e-69bf90a87327"
      },
      "outputs": [],
      "source": [
        "# 3. Correlation matrix for numerical features\n",
        "print(\"\\nCorrelation Matrix:\")\n",
        "correlation_matrix = df.corr(numeric_only=True)\n",
        "print(correlation_matrix)"
      ]
    },
    {
      "cell_type": "code",
      "execution_count": null,
      "metadata": {
        "colab": {
          "base_uri": "https://localhost:8080/",
          "height": 807
        },
        "id": "VV_rUMaR4aHi",
        "outputId": "629e368e-1e59-4251-e47b-10a56bf597ae"
      },
      "outputs": [],
      "source": [
        "# 4. Distribution plots (Histograms) for numerical columns\n",
        "numeric_cols = df.select_dtypes(include=[np.number]).columns\n",
        "\n",
        "plt.figure(figsize=(15, 12))\n",
        "for i, col in enumerate(numeric_cols, 1):\n",
        "    plt.subplot(3, 3, i)\n",
        "    sns.histplot(df[col], kde=True, bins=30)\n",
        "    plt.title(f'Histogram: {col}')\n",
        "plt.tight_layout()\n",
        "plt.show()"
      ]
    },
    {
      "cell_type": "code",
      "execution_count": null,
      "metadata": {
        "colab": {
          "base_uri": "https://localhost:8080/",
          "height": 806
        },
        "id": "2PTZwntg4ciO",
        "outputId": "1712e37f-2110-4cdb-924e-b9f16aa44355"
      },
      "outputs": [],
      "source": [
        "# 5. Boxplots for outlier detection\n",
        "plt.figure(figsize=(15, 12))\n",
        "for i, col in enumerate(numeric_cols, 1):\n",
        "    plt.subplot(3, 3, i)\n",
        "    sns.boxplot(x=df[col])\n",
        "    plt.title(f'Boxplot: {col}')\n",
        "plt.tight_layout()\n",
        "plt.show()"
      ]
    },
    {
      "cell_type": "code",
      "execution_count": null,
      "metadata": {
        "colab": {
          "base_uri": "https://localhost:8080/",
          "height": 1000
        },
        "id": "HECzau3D4fKj",
        "outputId": "48704c7e-3c54-46d1-f936-f1e2563151b8"
      },
      "outputs": [],
      "source": [
        "# 6. Bar charts for top categories\n",
        "plt.figure(figsize=(18, 18))\n",
        "for i, col in enumerate(categorical_cols[:9], 1):  # Limit to 9 for layout\n",
        "    plt.subplot(3, 3, i)\n",
        "    df[col].value_counts().head(10).plot(kind='bar')\n",
        "    plt.title(f'Bar Chart: {col}')\n",
        "    plt.xticks(rotation=45)\n",
        "plt.tight_layout()\n",
        "plt.show()"
      ]
    },
    {
      "cell_type": "markdown",
      "metadata": {
        "id": "ZUrD3KFQ3ykS"
      },
      "source": [
        "### Preprocessing"
      ]
    },
    {
      "cell_type": "code",
      "execution_count": null,
      "metadata": {
        "id": "WKFmpQ0yV0hw"
      },
      "outputs": [],
      "source": [
        "# Step 1: Drop rows with any missing values\n",
        "df_cleaned = df.dropna()"
      ]
    },
    {
      "cell_type": "code",
      "execution_count": null,
      "metadata": {
        "colab": {
          "base_uri": "https://localhost:8080/",
          "height": 585
        },
        "id": "knI1tKETWEBc",
        "outputId": "5aa414be-dd09-4cec-c968-54a8610c837a"
      },
      "outputs": [],
      "source": [
        "df_cleaned.isnull().sum()"
      ]
    },
    {
      "cell_type": "code",
      "execution_count": null,
      "metadata": {
        "colab": {
          "base_uri": "https://localhost:8080/",
          "height": 327
        },
        "id": "NH5FdBx1Y7qd",
        "outputId": "c2b6c176-78e7-4552-b8ea-1ca25a146ccc"
      },
      "outputs": [],
      "source": [
        "df_cleaned.head()"
      ]
    },
    {
      "cell_type": "code",
      "execution_count": null,
      "metadata": {
        "colab": {
          "base_uri": "https://localhost:8080/"
        },
        "id": "fR7-NR76WJzT",
        "outputId": "ae2734de-31c6-467d-c1cb-bb83a9960fa4"
      },
      "outputs": [],
      "source": [
        "# Step 2: Standardize text-based categorical fields\n",
        "df_cleaned['Name'] = df_cleaned['Name'].str.title()\n",
        "df_cleaned['Gender'] = df_cleaned['Gender'].str.capitalize()\n",
        "df_cleaned['Medical Condition'] = df_cleaned['Medical Condition'].str.capitalize()\n",
        "df_cleaned['Doctor'] = df_cleaned['Doctor'].str.title()\n",
        "df_cleaned['Hospital'] = df_cleaned['Hospital'].str.title()\n",
        "df_cleaned['Insurance Provider'] = df_cleaned['Insurance Provider'].str.title()\n",
        "df_cleaned['Medication'] = df_cleaned['Medication'].str.capitalize()\n",
        "df_cleaned['Test Results'] = df_cleaned['Test Results'].str.capitalize()\n",
        "df_cleaned['Admission Type'] = df_cleaned['Admission Type'].str.capitalize()\n"
      ]
    },
    {
      "cell_type": "code",
      "execution_count": null,
      "metadata": {
        "colab": {
          "base_uri": "https://localhost:8080/"
        },
        "id": "1qj8JSpOalWn",
        "outputId": "004678cd-217b-44fa-8bf9-29a5d337823b"
      },
      "outputs": [],
      "source": [
        "# Step 3: Convert date columns to datetime\n",
        "df_cleaned['Date of Admission'] = pd.to_datetime(df_cleaned['Date of Admission'], errors='coerce')\n",
        "df_cleaned['Discharge Date'] = pd.to_datetime(df_cleaned['Discharge Date'], errors='coerce')"
      ]
    },
    {
      "cell_type": "code",
      "execution_count": null,
      "metadata": {
        "colab": {
          "base_uri": "https://localhost:8080/"
        },
        "id": "Pu4EE-LUanAb",
        "outputId": "5d6bbced-6808-48bd-f313-e44b51692419"
      },
      "outputs": [],
      "source": [
        "# Calculate Length of Stay\n",
        "df_cleaned['Length of Stay'] = (df_cleaned['Discharge Date'] - df_cleaned['Date of Admission']).dt.days\n",
        "\n",
        "# Reorder columns: insert 'Length of Stay' before 'Target'\n",
        "target_index = df_cleaned.columns.get_loc('Test Results')\n",
        "cols = list(df_cleaned.columns)\n",
        "# Move 'Length of Stay' to the position before 'Target'\n",
        "cols.insert(target_index, cols.pop(cols.index('Length of Stay')))\n",
        "df_cleaned = df_cleaned[cols]"
      ]
    },
    {
      "cell_type": "code",
      "execution_count": null,
      "metadata": {
        "colab": {
          "base_uri": "https://localhost:8080/",
          "height": 327
        },
        "id": "DApzxccdcUTG",
        "outputId": "56f44309-4e86-49fb-fac8-1527bff4917f"
      },
      "outputs": [],
      "source": [
        "df_cleaned.head()"
      ]
    },
    {
      "cell_type": "code",
      "execution_count": null,
      "metadata": {},
      "outputs": [],
      "source": [
        "#Checking the percentage of the missing data\n",
        "pd.set_option('display.max_rows', None)\n",
        "missing_percentage = (df_cleaned.isnull().sum() / len(df_cleaned)) * 100\n",
        "missing_df = pd.DataFrame({'Feature': df_cleaned.columns, 'Missing Percentage': missing_percentage})\n",
        "print(missing_df)"
      ]
    },
    {
      "cell_type": "code",
      "execution_count": null,
      "metadata": {},
      "outputs": [],
      "source": [
        "df_cleaned.duplicated().sum()"
      ]
    },
    {
      "cell_type": "code",
      "execution_count": null,
      "metadata": {},
      "outputs": [],
      "source": [
        "df_cleaned.isnull().sum()"
      ]
    },
    {
      "cell_type": "code",
      "execution_count": null,
      "metadata": {},
      "outputs": [],
      "source": [
        "look_for_outliers(df_cleaned)"
      ]
    },
    {
      "cell_type": "code",
      "execution_count": null,
      "metadata": {},
      "outputs": [],
      "source": [
        "# List of numerical features\n",
        "numerical_features = df_cleaned.select_dtypes(include=['int64', 'float64']).columns.tolist()\n",
        "\n",
        "# Apply the function to handle outliers\n",
        "df = handle_outliers_iqr(df_cleaned, numerical_features)"
      ]
    },
    {
      "cell_type": "code",
      "execution_count": null,
      "metadata": {},
      "outputs": [],
      "source": [
        "look_for_outliers(df)"
      ]
    },
    {
      "cell_type": "code",
      "execution_count": null,
      "metadata": {},
      "outputs": [],
      "source": [
        "pd.set_option('display.max_rows', None)  #this line to show all of the records\n",
        "df_dtypes = pd.DataFrame({\"Feature\": df.columns, \"Data Type\": df.dtypes})\n",
        "print(df_dtypes)\n",
        "pd.reset_option('display.max_rows')"
      ]
    },
    {
      "cell_type": "code",
      "execution_count": null,
      "metadata": {},
      "outputs": [],
      "source": [
        "# Drop ID and Name (optional)\n",
        "df.drop(columns=['ID', 'Name', 'Room Number'], inplace=True)\n",
        "\n",
        "X_encoded, y_encoded = encode_features(df, target_col=\"Test Results\")\n",
        "df = pd.concat([X_encoded, y_encoded.rename(\"Test Results\")], axis=1)"
      ]
    },
    {
      "cell_type": "code",
      "execution_count": null,
      "metadata": {},
      "outputs": [],
      "source": [
        "pd.set_option('display.max_rows', None)  #this line to show all of the records\n",
        "df_dtypes = pd.DataFrame({\"Feature\": df.columns, \"Data Type\": df.dtypes})\n",
        "print(df_dtypes)\n",
        "pd.reset_option('display.max_rows')"
      ]
    },
    {
      "cell_type": "code",
      "execution_count": null,
      "metadata": {},
      "outputs": [],
      "source": [
        "df.head()"
      ]
    },
    {
      "cell_type": "code",
      "execution_count": null,
      "metadata": {},
      "outputs": [],
      "source": [
        "numerical_features = df.select_dtypes(include=['int64', 'float64']).columns.tolist()\n",
        "numerical_features = [col for col in numerical_features if col != 'Test Results']\n",
        "\n",
        "treated_df, skewed_features, transformation_details = treat_skewness(df, numerical_features)"
      ]
    },
    {
      "cell_type": "code",
      "execution_count": null,
      "metadata": {},
      "outputs": [],
      "source": [
        "df_scaled, scaled_cols = scale_features(df, target_col='Test Results', scaler_type='standard')"
      ]
    }
  ],
  "metadata": {
    "colab": {
      "authorship_tag": "ABX9TyOYPQ2HfY8tGPbRwil/XSao",
      "include_colab_link": true,
      "provenance": []
    },
    "kernelspec": {
      "display_name": "Python 3",
      "name": "python3"
    },
    "language_info": {
      "name": "python"
    }
  },
  "nbformat": 4,
  "nbformat_minor": 0
}
