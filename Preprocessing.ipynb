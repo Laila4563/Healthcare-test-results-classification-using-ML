{
  "cells": [
    {
      "cell_type": "markdown",
      "metadata": {
        "id": "U7B5N83x3mEv"
      },
      "source": [
        "### Statistical Analysis & Understanding Dataset"
      ]
    },
    {
      "cell_type": "code",
      "execution_count": null,
      "metadata": {
        "id": "5O-vccYSwKey"
      },
      "outputs": [],
      "source": [
        "import pandas as pd\n",
        "import numpy as np\n",
        "import matplotlib.pyplot as plt\n",
        "import seaborn as sns\n",
        "from utils import (\n",
        "    encode_features,\n",
        "    scale_features,\n",
        "    look_for_outliers,\n",
        "    handle_outliers_iqr,\n",
        "    treat_skewness,\n",
        ")\n",
        "\n",
        "# from google.colab import drive"
      ]
    },
    {
      "cell_type": "code",
      "execution_count": null,
      "metadata": {
        "colab": {
          "base_uri": "https://localhost:8080/"
        },
        "id": "N4OwIzXowfdI",
        "outputId": "f196d1b2-4b4e-4d19-83b6-f06e9f679cc4"
      },
      "outputs": [],
      "source": [
        "# drive.mount('/content/drive')"
      ]
    },
    {
      "cell_type": "code",
      "execution_count": null,
      "metadata": {
        "colab": {
          "base_uri": "https://localhost:8080/",
          "height": 327
        },
        "id": "kNMQd7ydwo0A",
        "outputId": "475f9438-c686-45c4-dae5-5cd9d74f73d2"
      },
      "outputs": [],
      "source": [
        "df = pd.read_csv(\"data/train data.csv\")\n",
        "df.head()"
      ]
    },
    {
      "cell_type": "code",
      "execution_count": null,
      "metadata": {
        "colab": {
          "base_uri": "https://localhost:8080/",
          "height": 223
        },
        "id": "MA0zGSduz5e4",
        "outputId": "93c2e637-daf4-4fa3-cf4b-a6493ca8af83"
      },
      "outputs": [],
      "source": [
        "df.tail()"
      ]
    },
    {
      "cell_type": "code",
      "execution_count": null,
      "metadata": {
        "colab": {
          "base_uri": "https://localhost:8080/",
          "height": 585
        },
        "id": "3OaDrDcTyJGZ",
        "outputId": "b5f91c68-52f4-466d-c9b2-47244a32e5e3"
      },
      "outputs": [],
      "source": [
        "df.isnull().sum()"
      ]
    },
    {
      "cell_type": "code",
      "execution_count": null,
      "metadata": {
        "colab": {
          "base_uri": "https://localhost:8080/"
        },
        "id": "9ak_vtcBzujr",
        "outputId": "60d1a5a7-1f38-44d4-8b26-f6d0e1955c10"
      },
      "outputs": [],
      "source": [
        "df.info()"
      ]
    },
    {
      "cell_type": "code",
      "execution_count": null,
      "metadata": {
        "colab": {
          "base_uri": "https://localhost:8080/"
        },
        "id": "8OVllLmD0D7Y",
        "outputId": "39fe9133-a2f4-4a44-f6cd-a63ad45a03c8"
      },
      "outputs": [],
      "source": [
        "print(f\"Dataset contains {df.shape[0]} rows and {df.shape[1]} columns.\")"
      ]
    },
    {
      "cell_type": "code",
      "execution_count": null,
      "metadata": {
        "colab": {
          "base_uri": "https://localhost:8080/"
        },
        "id": "NJj83kP80Qzi",
        "outputId": "4dcff28b-0e36-4a9d-c78a-c83cfae0ab8f"
      },
      "outputs": [],
      "source": [
        "#Summarize categorical columns:\n",
        "for col in df.select_dtypes(include='object').columns:\n",
        "    print(f\"Value counts for {col}:\\n{df[col].value_counts()}\\n\")"
      ]
    },
    {
      "cell_type": "code",
      "execution_count": null,
      "metadata": {
        "colab": {
          "base_uri": "https://localhost:8080/"
        },
        "id": "xJUEr7eZWjt3",
        "outputId": "308af12d-711e-4c2b-cc56-634bec4068dd"
      },
      "outputs": [],
      "source": [
        "for col in df.columns:\n",
        "        num_unique = df[col].nunique()\n",
        "        print(f\"Column '{col}' has {num_unique} unique values.\")"
      ]
    },
    {
      "cell_type": "code",
      "execution_count": null,
      "metadata": {
        "colab": {
          "base_uri": "https://localhost:8080/"
        },
        "id": "1RGbHvff3hdh",
        "outputId": "6e8ca258-1712-42a0-ac50-36063e892e3c"
      },
      "outputs": [],
      "source": [
        "print(f\"Number of duplicate rows: {df.duplicated().sum()}\")\n",
        "# View the duplicated rows\n",
        "duplicated_rows = df[df.duplicated()]\n",
        "print(\"\\nDuplicated rows:\")\n",
        "print(duplicated_rows)"
      ]
    },
    {
      "cell_type": "code",
      "execution_count": null,
      "metadata": {
        "colab": {
          "base_uri": "https://localhost:8080/"
        },
        "id": "DpauWbn33K2K",
        "outputId": "6cc55e55-e1de-4835-fccf-c35a3bb9c9f8"
      },
      "outputs": [],
      "source": [
        "# 1. Descriptive statistics for numeric columns\n",
        "numeric_desc = df.describe()\n",
        "print(\"Descriptive Statistics (Numeric Columns):\")\n",
        "print(numeric_desc)"
      ]
    },
    {
      "cell_type": "code",
      "execution_count": null,
      "metadata": {
        "colab": {
          "base_uri": "https://localhost:8080/"
        },
        "id": "lhW-qkM138xt",
        "outputId": "f59415ec-4e1b-4aec-8b2c-ea37e0cad487"
      },
      "outputs": [],
      "source": [
        "# 2. Frequency distribution for top 10 values in categorical variables\n",
        "categorical_cols = df.select_dtypes(include='object').columns\n",
        "print(\"\\nFrequency Distribution (Top 10 per Categorical Column):\")\n",
        "for col in categorical_cols:\n",
        "    print(f\"\\nTop values in '{col}':\")\n",
        "    print(df[col].value_counts().head(10))"
      ]
    },
    {
      "cell_type": "code",
      "execution_count": null,
      "metadata": {
        "colab": {
          "base_uri": "https://localhost:8080/"
        },
        "id": "IMe-lyRg4XB9",
        "outputId": "fb931bb3-beb5-4a7e-8b1e-69bf90a87327"
      },
      "outputs": [],
      "source": [
        "# 3. Correlation matrix for numerical features\n",
        "print(\"\\nCorrelation Matrix:\")\n",
        "correlation_matrix = df.corr(numeric_only=True)\n",
        "print(correlation_matrix)"
      ]
    },
    {
      "cell_type": "code",
      "execution_count": null,
      "metadata": {
        "colab": {
          "base_uri": "https://localhost:8080/",
          "height": 807
        },
        "id": "VV_rUMaR4aHi",
        "outputId": "629e368e-1e59-4251-e47b-10a56bf597ae"
      },
      "outputs": [],
      "source": [
        "# 4. Distribution plots (Histograms) for numerical columns\n",
        "numeric_cols = df.select_dtypes(include=[np.number]).columns\n",
        "\n",
        "plt.figure(figsize=(15, 12))\n",
        "for i, col in enumerate(numeric_cols, 1):\n",
        "    plt.subplot(3, 3, i)\n",
        "    sns.histplot(df[col], kde=True, bins=30)\n",
        "    plt.title(f'Histogram: {col}')\n",
        "plt.tight_layout()\n",
        "plt.show()"
      ]
    },
    {
      "cell_type": "code",
      "execution_count": null,
      "metadata": {
        "colab": {
          "base_uri": "https://localhost:8080/",
          "height": 806
        },
        "id": "2PTZwntg4ciO",
        "outputId": "1712e37f-2110-4cdb-924e-b9f16aa44355"
      },
      "outputs": [],
      "source": [
        "# 5. Boxplots for outlier detection\n",
        "plt.figure(figsize=(15, 12))\n",
        "for i, col in enumerate(numeric_cols, 1):\n",
        "    plt.subplot(3, 3, i)\n",
        "    sns.boxplot(x=df[col])\n",
        "    plt.title(f'Boxplot: {col}')\n",
        "plt.tight_layout()\n",
        "plt.show()"
      ]
    },
    {
      "cell_type": "code",
      "execution_count": null,
      "metadata": {
        "colab": {
          "base_uri": "https://localhost:8080/",
          "height": 1000
        },
        "id": "HECzau3D4fKj",
        "outputId": "48704c7e-3c54-46d1-f936-f1e2563151b8"
      },
      "outputs": [],
      "source": [
        "# 6. Bar charts for top categories\n",
        "plt.figure(figsize=(18, 18))\n",
        "for i, col in enumerate(categorical_cols[:9], 1):  # Limit to 9 for layout\n",
        "    plt.subplot(3, 3, i)\n",
        "    df[col].value_counts().head(10).plot(kind='bar')\n",
        "    plt.title(f'Bar Chart: {col}')\n",
        "    plt.xticks(rotation=45)\n",
        "plt.tight_layout()\n",
        "plt.show()"
      ]
    },
    {
      "cell_type": "markdown",
      "metadata": {
        "id": "ZUrD3KFQ3ykS"
      },
      "source": [
        "### Preprocessing"
      ]
    },
    {
      "cell_type": "code",
      "execution_count": null,
      "metadata": {},
      "outputs": [],
      "source": [
        "# Get missing values count and percentage\n",
        "missing_values = df.isnull().sum()\n",
        "missing_percentage = (missing_values / len(df)) * 100\n",
        "\n",
        "# Get column data types\n",
        "column_types = df.dtypes\n",
        "\n",
        "# Combine into one DataFrame\n",
        "missing_data = pd.DataFrame({\n",
        "    'Column Type': column_types,\n",
        "    'Missing Values': missing_values,\n",
        "    'Percentage (%)': missing_percentage\n",
        "})\n",
        "\n",
        "# Filter only columns with missing values\n",
        "missing_data = missing_data[missing_data['Missing Values'] > 0]\n",
        "\n",
        "# Display the result\n",
        "print(missing_data)"
      ]
    },
    {
      "cell_type": "code",
      "execution_count": null,
      "metadata": {},
      "outputs": [],
      "source": [
        "print(df.columns)"
      ]
    },
    {
      "cell_type": "code",
      "execution_count": null,
      "metadata": {},
      "outputs": [],
      "source": [
        "# Categorical columns: use mode or \"Unknown\"\n",
        "categorical_cols = ['Blood Type', 'Doctor', 'Hospital', 'Insurance Provider', 'Admission Type']\n",
        "for col in categorical_cols:\n",
        "    if df[col].isnull().mean() > 0.05:\n",
        "        df[col].fillna(\"Unknown\", inplace=True)  # For higher missing %\n",
        "    else:\n",
        "        df[col].fillna(df[col].mode()[0], inplace=True)\n",
        "\n",
        "# Numerical columns: use median\n",
        "df['Billing Amount'].fillna(df['Billing Amount'].median(), inplace=True)"
      ]
    },
    {
      "cell_type": "code",
      "execution_count": null,
      "metadata": {},
      "outputs": [],
      "source": [
        "# Get missing values count and percentage\n",
        "missing_values = df.isnull().sum()\n",
        "missing_percentage = (missing_values / len(df)) * 100\n",
        "\n",
        "# Get column data types\n",
        "column_types = df.dtypes\n",
        "\n",
        "# Combine into one DataFrame\n",
        "missing_data = pd.DataFrame({\n",
        "    'Column Type': column_types,\n",
        "    'Missing Values': missing_values,\n",
        "    'Percentage (%)': missing_percentage\n",
        "})\n",
        "\n",
        "# Filter only columns with missing values\n",
        "missing_data = missing_data[missing_data['Missing Values'] > 0]\n",
        "\n",
        "# Display the result\n",
        "print(missing_data)"
      ]
    },
    {
      "cell_type": "code",
      "execution_count": null,
      "metadata": {},
      "outputs": [],
      "source": [
        "df.isnull().sum()"
      ]
    },
    {
      "cell_type": "code",
      "execution_count": null,
      "metadata": {
        "colab": {
          "base_uri": "https://localhost:8080/",
          "height": 327
        },
        "id": "NH5FdBx1Y7qd",
        "outputId": "c2b6c176-78e7-4552-b8ea-1ca25a146ccc"
      },
      "outputs": [],
      "source": [
        "df.head()"
      ]
    },
    {
      "cell_type": "code",
      "execution_count": null,
      "metadata": {
        "colab": {
          "base_uri": "https://localhost:8080/"
        },
        "id": "fR7-NR76WJzT",
        "outputId": "ae2734de-31c6-467d-c1cb-bb83a9960fa4"
      },
      "outputs": [],
      "source": [
        "# Step 2: Standardize text-based categorical fields\n",
        "df['Name'] = df['Name'].str.title()\n",
        "df['Gender'] = df['Gender'].str.capitalize()\n",
        "df['Medical Condition'] = df['Medical Condition'].str.capitalize()\n",
        "df['Doctor'] = df['Doctor'].str.title()\n",
        "df['Hospital'] = df['Hospital'].str.title()\n",
        "df['Insurance Provider'] = df['Insurance Provider'].str.title()\n",
        "df['Medication'] = df['Medication'].str.capitalize()\n",
        "df['Test Results'] = df['Test Results'].str.capitalize()\n",
        "df['Admission Type'] = df['Admission Type'].str.capitalize()\n"
      ]
    },
    {
      "cell_type": "code",
      "execution_count": null,
      "metadata": {
        "colab": {
          "base_uri": "https://localhost:8080/"
        },
        "id": "1qj8JSpOalWn",
        "outputId": "004678cd-217b-44fa-8bf9-29a5d337823b"
      },
      "outputs": [],
      "source": [
        "# Step 3: Convert date columns to datetime\n",
        "df[\"Date of Admission\"] = pd.to_datetime(\n",
        "    df[\"Date of Admission\"], errors=\"coerce\", dayfirst=True\n",
        ")\n",
        "df[\"Discharge Date\"] = pd.to_datetime(\n",
        "    df[\"Discharge Date\"], errors=\"coerce\", dayfirst=True\n",
        ")"
      ]
    },
    {
      "cell_type": "code",
      "execution_count": null,
      "metadata": {},
      "outputs": [],
      "source": [
        "df.isnull().sum()"
      ]
    },
    {
      "cell_type": "code",
      "execution_count": null,
      "metadata": {},
      "outputs": [],
      "source": [
        "df.head()"
      ]
    },
    {
      "cell_type": "code",
      "execution_count": null,
      "metadata": {
        "colab": {
          "base_uri": "https://localhost:8080/"
        },
        "id": "Pu4EE-LUanAb",
        "outputId": "5d6bbced-6808-48bd-f313-e44b51692419"
      },
      "outputs": [],
      "source": [
        "# Calculate Length of Stay\n",
        "df['Length of Stay in Days'] = (df['Discharge Date'] - df['Date of Admission']).dt.days\n",
        "\n",
        "# Reorder columns: insert 'Length of Stay' before 'Target'\n",
        "target_index = df.columns.get_loc('Test Results')\n",
        "cols = list(df.columns)\n",
        "# Move 'Length of Stay' to the position before 'Target'\n",
        "cols.insert(target_index, cols.pop(cols.index('Length of Stay in Days')))\n",
        "df = df[cols]"
      ]
    },
    {
      "cell_type": "code",
      "execution_count": null,
      "metadata": {
        "colab": {
          "base_uri": "https://localhost:8080/",
          "height": 327
        },
        "id": "DApzxccdcUTG",
        "outputId": "56f44309-4e86-49fb-fac8-1527bff4917f"
      },
      "outputs": [],
      "source": [
        "df.head()"
      ]
    },
    {
      "cell_type": "code",
      "execution_count": null,
      "metadata": {},
      "outputs": [],
      "source": [
        "#Checking the percentage of the missing data\n",
        "pd.set_option('display.max_rows', None)\n",
        "missing_percentage = (df.isnull().sum() / len(df)) * 100\n",
        "missing_df = pd.DataFrame({'Feature': df.columns, 'Missing Percentage': missing_percentage})\n",
        "print(missing_df)"
      ]
    },
    {
      "cell_type": "code",
      "execution_count": null,
      "metadata": {},
      "outputs": [],
      "source": [
        "df.duplicated().sum()"
      ]
    },
    {
      "cell_type": "code",
      "execution_count": null,
      "metadata": {},
      "outputs": [],
      "source": [
        "look_for_outliers(df)"
      ]
    },
    {
      "cell_type": "code",
      "execution_count": null,
      "metadata": {},
      "outputs": [],
      "source": [
        "# List of numerical features\n",
        "numerical_features = df.select_dtypes(include=['int64', 'float64']).columns.tolist()\n",
        "\n",
        "# Apply the function to handle outliers\n",
        "df = handle_outliers_iqr(df, numerical_features)"
      ]
    },
    {
      "cell_type": "code",
      "execution_count": null,
      "metadata": {},
      "outputs": [],
      "source": [
        "look_for_outliers(df)"
      ]
    },
    {
      "cell_type": "code",
      "execution_count": null,
      "metadata": {},
      "outputs": [],
      "source": [
        "pd.set_option('display.max_rows', None)  #this line to show all of the records\n",
        "df_dtypes =pd.DataFrame({\"Feature\": df.columns, \"Data Type\": df.dtypes})\n",
        "print(df_dtypes)\n",
        "pd.reset_option('display.max_rows')"
      ]
    },
    {
      "cell_type": "code",
      "execution_count": null,
      "metadata": {},
      "outputs": [],
      "source": [
        "# Drop ID and Name\n",
        "df.drop(columns=['ID', 'Name', 'Room Number'], inplace=True)\n",
        "\n",
        "X_encoded, y_encoded = encode_features(df, target_col=\"Test Results\")\n",
        "df = pd.concat([X_encoded, y_encoded.rename(\"Test Results\")], axis=1)"
      ]
    },
    {
      "cell_type": "code",
      "execution_count": null,
      "metadata": {},
      "outputs": [],
      "source": [
        "pd.set_option('display.max_rows', None)  #this line to show all of the records\n",
        "df_dtypes = pd.DataFrame({\"Feature\": df.columns, \"Data Type\": df.dtypes})\n",
        "print(df_dtypes)\n",
        "pd.reset_option('display.max_rows')"
      ]
    },
    {
      "cell_type": "code",
      "execution_count": null,
      "metadata": {},
      "outputs": [],
      "source": [
        "df.head()"
      ]
    },
    {
      "cell_type": "code",
      "execution_count": null,
      "metadata": {},
      "outputs": [],
      "source": [
        "numerical_features = df.select_dtypes(include=['int64', 'float64']).columns.tolist()\n",
        "numerical_features = [col for col in numerical_features if col != 'Test Results']\n",
        "\n",
        "df, skewed_features, transformation_details = treat_skewness(df, numerical_features)"
      ]
    },
    {
      "cell_type": "code",
      "execution_count": null,
      "metadata": {},
      "outputs": [],
      "source": [
        "df, scaled_cols = scale_features(df, target_col='Test Results', scaler_type='standard')"
      ]
    },
    {
      "cell_type": "code",
      "execution_count": null,
      "metadata": {},
      "outputs": [],
      "source": [
        "numeric_desc = df.describe()\n",
        "print(\"Descriptive Statistics (Numeric Columns):\")\n",
        "print(numeric_desc)"
      ]
    },
    {
      "cell_type": "code",
      "execution_count": null,
      "metadata": {},
      "outputs": [],
      "source": [
        "df.info()"
      ]
    },
    {
      "cell_type": "code",
      "execution_count": null,
      "metadata": {},
      "outputs": [],
      "source": [
        "print(df.columns.tolist())"
      ]
    },
    {
      "cell_type": "markdown",
      "metadata": {},
      "source": [
        "Statistical Analysis after cleaning"
      ]
    },
    {
      "cell_type": "code",
      "execution_count": null,
      "metadata": {},
      "outputs": [],
      "source": [
        "# Histograms for numerical features\n",
        "df[numerical_cols].hist(figsize=(16, 12), bins=30, color='skyblue', edgecolor='black')\n",
        "plt.suptitle('Histograms of Numerical Features', fontsize=16)\n",
        "plt.tight_layout()\n",
        "plt.show()\n"
      ]
    },
    {
      "cell_type": "code",
      "execution_count": null,
      "metadata": {},
      "outputs": [],
      "source": [
        "plt.figure(figsize=(18, 18))\n",
        "for i, col in enumerate(categorical_cols[:9], 1):  # Limit to 9 for layout\n",
        "    plt.subplot(3, 3, i)\n",
        "    df[col].value_counts().head(10).plot(kind='bar')\n",
        "    plt.title(f'Bar Chart: {col}')\n",
        "    plt.xticks(rotation=45)\n",
        "plt.tight_layout()\n",
        "plt.show()"
      ]
    },
    {
      "cell_type": "code",
      "execution_count": null,
      "metadata": {},
      "outputs": [],
      "source": [
        "#encoding cateogorical feautures then display confusion matrix\n",
        "\n",
        "# Make a copy of the DataFrame\n",
        "df_encoded = df.copy()\n",
        "\n",
        "# Encode categorical columns\n",
        "categorical_cols = df_encoded.select_dtypes(include=['object', 'category', 'bool']).columns.tolist()\n",
        "\n",
        "le = LabelEncoder()\n",
        "for col in categorical_cols:\n",
        "    df_encoded[col] = le.fit_transform(df_encoded[col].astype(str))\n",
        "\n",
        "# Plot the colorful heatmap\n",
        "plt.figure(figsize=(14, 10))\n",
        "sns.heatmap(df_encoded.corr(), \n",
        "            annot=True, \n",
        "            cmap='hsv', \n",
        "            fmt='.3f', \n",
        "            linewidths=2)\n",
        "\n",
        "plt.title('Correlation Heatmap (Including Encoded Categorical Features)', fontsize=16)\n",
        "plt.xticks(rotation=45, ha='right')\n",
        "plt.yticks(rotation=0)\n",
        "plt.tight_layout()\n",
        "plt.show()\n"
      ]
    },
    {
      "cell_type": "code",
      "execution_count": null,
      "metadata": {},
      "outputs": [],
      "source": [
        "def get_correlation_table(df):\n",
        "    # Set display options to show all rows and columns\n",
        "\n",
        "    # Calculate the correlation matrix\n",
        "    correlation_matrix = df.corr()\n",
        "\n",
        "    # Extract correlations with the target variable 'Test Results'\n",
        "    table = correlation_matrix['Test Results']\n",
        "\n",
        "    # pd.set_option('display.max_rows', None)\n",
        "\n",
        "    # Print the table\n",
        "    return table\n",
        "\n",
        "\n",
        "get_correlation_table(df_encoded)"
      ]
    },
    {
      "cell_type": "code",
      "execution_count": null,
      "metadata": {},
      "outputs": [],
      "source": [
        "import pandas as pd\n",
        "import matplotlib.pyplot as plt\n",
        "\n",
        "# Replace these with actual column names from your dataset\n",
        "feature_col = 'Age'      # Any categorical or discrete numeric feature\n",
        "target_col = 'Test Results'    # Your class label column\n",
        "\n",
        "# Check the columns exist\n",
        "assert feature_col in df.columns and target_col in df.columns, \"Check your column names\"\n",
        "\n",
        "# Create the crosstab and plot\n",
        "plt.figure(figsize=(25, 8))\n",
        "pd.crosstab(df[feature_col], df[target_col]).plot(kind='bar', \n",
        "                                                  figsize=(25, 8), \n",
        "                                                  color=['gold', 'brown'])\n",
        "plt.title(f'{target_col.capitalize()} Frequency for {feature_col.capitalize()}')\n",
        "plt.xlabel(feature_col.capitalize())\n",
        "plt.ylabel('Frequency')\n",
        "plt.xticks(rotation=45)\n",
        "plt.tight_layout()\n",
        "plt.show()\n"
      ]
    },
    {
      "cell_type": "code",
      "execution_count": null,
      "metadata": {},
      "outputs": [],
      "source": [
        "# creates a grid of plots that shows pairwise relationships between all numeric columns in df.\n",
        "sns.pairplot(data=df)"
      ]
    }
  ],
  "metadata": {
    "colab": {
      "authorship_tag": "ABX9TyOYPQ2HfY8tGPbRwil/XSao",
      "include_colab_link": true,
      "provenance": []
    },
    "kernelspec": {
      "display_name": "Python 3",
      "name": "python3"
    },
    "language_info": {
      "codemirror_mode": {
        "name": "ipython",
        "version": 3
      },
      "file_extension": ".py",
      "mimetype": "text/x-python",
      "name": "python",
      "nbconvert_exporter": "python",
      "pygments_lexer": "ipython3",
      "version": "3.12.4"
    }
  },
  "nbformat": 4,
  "nbformat_minor": 0
}
